{
 "cells": [
  {
   "cell_type": "code",
   "execution_count": 1,
   "id": "105adaf7-4bc8-4817-a21b-6fee191a6ff0",
   "metadata": {},
   "outputs": [
    {
     "name": "stdout",
     "output_type": "stream",
     "text": [
      "> 2023-11-13 11:15:09,965 [warning] Failed resolving version info. Ignoring and using defaults\n",
      "> 2023-11-13 11:15:11,184 [warning] Server or client version is unstable. Assuming compatible: {'server_version': '0.0.0+v1.6.0-pipnot', 'client_version': '0.0.0+unstable'}\n"
     ]
    }
   ],
   "source": [
    "import mlrun"
   ]
  },
  {
   "cell_type": "code",
   "execution_count": 3,
   "id": "e8b67b82-fb0c-4128-be60-83632c455bad",
   "metadata": {},
   "outputs": [
    {
     "data": {
      "text/plain": [
       "BackgroundTask(kind=BackgroundTask, metadata=BackgroundTaskMetadata(name='5249dcf6-e059-417b-911a-0b0c9343849c', project=None, created=datetime.datetime(2023, 11, 13, 11, 15, 21, 772646), updated=datetime.datetime(2023, 11, 13, 11, 15, 22, 618699), timeout=None), spec=BackgroundTaskSpec(), status=BackgroundTaskStatus(state=succeeded, error=None))"
      ]
     },
     "execution_count": 3,
     "metadata": {},
     "output_type": "execute_result"
    }
   ],
   "source": [
    "mlrun.get_run_db().trigger_migrations()"
   ]
  },
  {
   "cell_type": "code",
   "execution_count": 4,
   "id": "0d6f0448-9e78-4f7b-8ecc-b857e55fe75c",
   "metadata": {},
   "outputs": [],
   "source": [
    "a = _"
   ]
  },
  {
   "cell_type": "code",
   "execution_count": 5,
   "id": "013ba817-1c9c-4486-ae81-18f69efa2876",
   "metadata": {},
   "outputs": [
    {
     "data": {
      "text/plain": [
       "'[]'"
      ]
     },
     "execution_count": 5,
     "metadata": {},
     "output_type": "execute_result"
    }
   ],
   "source": [
    "a"
   ]
  },
  {
   "cell_type": "code",
   "execution_count": null,
   "id": "2cca2ce9-0bcd-4329-a8ee-b01154cec0a6",
   "metadata": {},
   "outputs": [],
   "source": []
  }
 ],
 "metadata": {
  "kernelspec": {
   "display_name": "mlrun-base",
   "language": "python",
   "name": "conda-env-mlrun-base-py"
  },
  "language_info": {
   "codemirror_mode": {
    "name": "ipython",
    "version": 3
   },
   "file_extension": ".py",
   "mimetype": "text/x-python",
   "name": "python",
   "nbconvert_exporter": "python",
   "pygments_lexer": "ipython3",
   "version": "3.9.16"
  }
 },
 "nbformat": 4,
 "nbformat_minor": 5
}
